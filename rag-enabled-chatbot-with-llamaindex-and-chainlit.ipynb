{
 "cells": [
  {
   "cell_type": "markdown",
   "metadata": {
    "_cell_guid": "b1076dfc-b9ad-4769-8c92-a6c4dae69d19",
    "_uuid": "8f2839f25d086af736a60e9eeb907d3b93b6e0e5"
   },
   "source": [
    "In this tutorial, you will learn how to design and build a RAG enabled chatbot using LLamaindex and Chainlit. You will also learn to use the high-level APIs in LLamaindex and Chainlit to build a RAG enabled chatbot using just a few lines of code. Finally, you will create the RAG system from scratch to understand how things work behind the hood.\n",
    "\n",
    "The article will cover the following topics:\n",
    "\n",
    "1. Introduction to RAG enabled chatbots\n",
    "2. Overview of LLamaindex and Chainlit\n",
    "3. Designing and building a RAG enabled chatbot using LLamaindex and Chainlit\n",
    "4. Creating the RAG system from scratch\n",
    "\n",
    "By the end of this article, you will have a comprehensive understanding of how to design and build a RAG enabled chatbot using LLamaindex and Chainlit. You will also be able to create the RAG system from scratch and understand how things work behind the hood. The high-level APIs in LLamaindex and Chainlit will help you build a RAG enabled chatbot with ease. Happy learning! 🤖"
   ]
  },
  {
   "cell_type": "markdown",
   "metadata": {},
   "source": [
    "## RAG\n",
    "A RAG system consists of the following components-\n",
    "\n",
    "* Document loader\n",
    "* Splitting\n",
    "* Embedding storage\n",
    "* Query engine\n",
    "* LLM"
   ]
  },
  {
   "cell_type": "markdown",
   "metadata": {},
   "source": [
    "## Designing a RAG system\n",
    "A RAG system consists of the following components-\n",
    "\n",
    "* Document loader\n",
    "* Splitting\n",
    "* Embedding storage\n",
    "* Query engine\n",
    "* LLM"
   ]
  },
  {
   "cell_type": "markdown",
   "metadata": {},
   "source": [
    "## Steps of RAG\n",
    "* Load the documents.\n",
    "* Split document into chunks and extract embeddings.\n",
    "* Store embeddings into a storage (vector store).\n",
    "* Enable system to take queries from user (frontend).\n",
    "* Convert the query to embeddings and do a semantic search of the query embeddings in the vector store.\n",
    "* Return the search results and augment the user query with these search results (context).\n",
    "* Pass this augmented text to the LLM.\n",
    "* LLM finally returns an answer to user query."
   ]
  },
  {
   "cell_type": "markdown",
   "metadata": {},
   "source": [
    "## Let's implement\n",
    "We are going to use Llamaindex for building our RAG pipeline and chainlit for the chatbot front end. The vector store will be the default vector store in Llamaindex.\n",
    "\n",
    "*LlamaIndex is a python library which provides APIs to build a RAG system.* \n",
    "\n",
    "*Chainlit is a python library that enables you to create frontend for your LLM based applications*."
   ]
  },
  {
   "cell_type": "markdown",
   "metadata": {},
   "source": [
    "## Installations\n"
   ]
  },
  {
   "cell_type": "code",
   "execution_count": 1,
   "metadata": {
    "collapsed": true,
    "jupyter": {
     "outputs_hidden": true
    }
   },
   "outputs": [
    {
     "name": "stdout",
     "output_type": "stream",
     "text": [
      "Collecting llama-index\n",
      "  Downloading llama_index-0.9.44-py3-none-any.whl.metadata (8.4 kB)\n",
      "Collecting SQLAlchemy>=1.4.49 (from SQLAlchemy[asyncio]>=1.4.49->llama-index)\n",
      "  Downloading SQLAlchemy-2.0.25-cp311-cp311-manylinux_2_17_x86_64.manylinux2014_x86_64.whl.metadata (9.6 kB)\n",
      "Collecting aiohttp<4.0.0,>=3.8.6 (from llama-index)\n",
      "  Downloading aiohttp-3.9.3-cp311-cp311-manylinux_2_17_x86_64.manylinux2014_x86_64.whl.metadata (7.4 kB)\n",
      "Collecting dataclasses-json (from llama-index)\n",
      "  Downloading dataclasses_json-0.6.4-py3-none-any.whl.metadata (25 kB)\n",
      "Collecting deprecated>=1.2.9.3 (from llama-index)\n",
      "  Downloading Deprecated-1.2.14-py2.py3-none-any.whl.metadata (5.4 kB)\n",
      "Collecting dirtyjson<2.0.0,>=1.0.8 (from llama-index)\n",
      "  Downloading dirtyjson-1.0.8-py3-none-any.whl (25 kB)\n",
      "Requirement already satisfied: fsspec>=2023.5.0 in /home/satya/miniconda3/lib/python3.11/site-packages (from llama-index) (2023.10.0)\n",
      "Collecting httpx (from llama-index)\n",
      "  Downloading httpx-0.26.0-py3-none-any.whl.metadata (7.6 kB)\n",
      "Collecting nest-asyncio<2.0.0,>=1.5.8 (from llama-index)\n",
      "  Downloading nest_asyncio-1.6.0-py3-none-any.whl.metadata (2.8 kB)\n",
      "Requirement already satisfied: networkx>=3.0 in /home/satya/miniconda3/lib/python3.11/site-packages (from llama-index) (3.1)\n",
      "Collecting nltk<4.0.0,>=3.8.1 (from llama-index)\n",
      "  Downloading nltk-3.8.1-py3-none-any.whl (1.5 MB)\n",
      "\u001b[2K     \u001b[90m━━━━━━━━━━━━━━━━━━━━━━━━━━━━━━━━━━━━━━━━\u001b[0m \u001b[32m1.5/1.5 MB\u001b[0m \u001b[31m592.4 kB/s\u001b[0m eta \u001b[36m0:00:00\u001b[0m00:01\u001b[0m00:01\u001b[0m\n",
      "\u001b[?25hRequirement already satisfied: numpy in /home/satya/miniconda3/lib/python3.11/site-packages (from llama-index) (1.24.3)\n",
      "Collecting openai>=1.1.0 (from llama-index)\n",
      "  Downloading openai-1.11.1-py3-none-any.whl.metadata (18 kB)\n",
      "Requirement already satisfied: pandas in /home/satya/miniconda3/lib/python3.11/site-packages (from llama-index) (2.1.4)\n",
      "Requirement already satisfied: requests>=2.31.0 in /home/satya/miniconda3/lib/python3.11/site-packages (from llama-index) (2.31.0)\n",
      "Collecting tenacity<9.0.0,>=8.2.0 (from llama-index)\n",
      "  Downloading tenacity-8.2.3-py3-none-any.whl.metadata (1.0 kB)\n",
      "Collecting tiktoken>=0.3.3 (from llama-index)\n",
      "  Downloading tiktoken-0.5.2-cp311-cp311-manylinux_2_17_x86_64.manylinux2014_x86_64.whl.metadata (6.6 kB)\n",
      "Requirement already satisfied: typing-extensions>=4.5.0 in /home/satya/miniconda3/lib/python3.11/site-packages (from llama-index) (4.9.0)\n",
      "Collecting typing-inspect>=0.8.0 (from llama-index)\n",
      "  Downloading typing_inspect-0.9.0-py3-none-any.whl.metadata (1.5 kB)\n",
      "Collecting aiosignal>=1.1.2 (from aiohttp<4.0.0,>=3.8.6->llama-index)\n",
      "  Downloading aiosignal-1.3.1-py3-none-any.whl (7.6 kB)\n",
      "Requirement already satisfied: attrs>=17.3.0 in /home/satya/miniconda3/lib/python3.11/site-packages (from aiohttp<4.0.0,>=3.8.6->llama-index) (23.1.0)\n",
      "Collecting frozenlist>=1.1.1 (from aiohttp<4.0.0,>=3.8.6->llama-index)\n",
      "  Downloading frozenlist-1.4.1-cp311-cp311-manylinux_2_5_x86_64.manylinux1_x86_64.manylinux_2_17_x86_64.manylinux2014_x86_64.whl.metadata (12 kB)\n",
      "Collecting multidict<7.0,>=4.5 (from aiohttp<4.0.0,>=3.8.6->llama-index)\n",
      "  Downloading multidict-6.0.5-cp311-cp311-manylinux_2_17_x86_64.manylinux2014_x86_64.whl.metadata (4.2 kB)\n",
      "Collecting yarl<2.0,>=1.0 (from aiohttp<4.0.0,>=3.8.6->llama-index)\n",
      "  Downloading yarl-1.9.4-cp311-cp311-manylinux_2_17_x86_64.manylinux2014_x86_64.whl.metadata (31 kB)\n",
      "Collecting wrapt<2,>=1.10 (from deprecated>=1.2.9.3->llama-index)\n",
      "  Downloading wrapt-1.16.0-cp311-cp311-manylinux_2_5_x86_64.manylinux1_x86_64.manylinux_2_17_x86_64.manylinux2014_x86_64.whl.metadata (6.6 kB)\n",
      "Requirement already satisfied: click in /home/satya/miniconda3/lib/python3.11/site-packages (from nltk<4.0.0,>=3.8.1->llama-index) (8.1.7)\n",
      "Requirement already satisfied: joblib in /home/satya/miniconda3/lib/python3.11/site-packages (from nltk<4.0.0,>=3.8.1->llama-index) (1.2.0)\n",
      "Collecting regex>=2021.8.3 (from nltk<4.0.0,>=3.8.1->llama-index)\n",
      "  Downloading regex-2023.12.25-cp311-cp311-manylinux_2_17_x86_64.manylinux2014_x86_64.whl.metadata (40 kB)\n",
      "\u001b[2K     \u001b[90m━━━━━━━━━━━━━━━━━━━━━━━━━━━━━━━━━━━━━━━\u001b[0m \u001b[32m40.9/40.9 kB\u001b[0m \u001b[31m831.6 kB/s\u001b[0m eta \u001b[36m0:00:00\u001b[0ma \u001b[36m0:00:01\u001b[0m\n",
      "\u001b[?25hRequirement already satisfied: tqdm in /home/satya/miniconda3/lib/python3.11/site-packages (from nltk<4.0.0,>=3.8.1->llama-index) (4.65.0)\n",
      "Requirement already satisfied: anyio<5,>=3.5.0 in /home/satya/miniconda3/lib/python3.11/site-packages (from openai>=1.1.0->llama-index) (4.2.0)\n",
      "Requirement already satisfied: distro<2,>=1.7.0 in /home/satya/miniconda3/lib/python3.11/site-packages (from openai>=1.1.0->llama-index) (1.8.0)\n",
      "Requirement already satisfied: pydantic<3,>=1.9.0 in /home/satya/miniconda3/lib/python3.11/site-packages (from openai>=1.1.0->llama-index) (1.10.12)\n",
      "Requirement already satisfied: sniffio in /home/satya/miniconda3/lib/python3.11/site-packages (from openai>=1.1.0->llama-index) (1.3.0)\n",
      "Requirement already satisfied: certifi in /home/satya/miniconda3/lib/python3.11/site-packages (from httpx->llama-index) (2023.11.17)\n",
      "Collecting httpcore==1.* (from httpx->llama-index)\n",
      "  Downloading httpcore-1.0.2-py3-none-any.whl.metadata (20 kB)\n",
      "Requirement already satisfied: idna in /home/satya/miniconda3/lib/python3.11/site-packages (from httpx->llama-index) (3.4)\n",
      "Collecting h11<0.15,>=0.13 (from httpcore==1.*->httpx->llama-index)\n",
      "  Downloading h11-0.14.0-py3-none-any.whl (58 kB)\n",
      "\u001b[2K     \u001b[90m━━━━━━━━━━━━━━━━━━━━━━━━━━━━━━━━━━━━━━━\u001b[0m \u001b[32m58.3/58.3 kB\u001b[0m \u001b[31m603.0 kB/s\u001b[0m eta \u001b[36m0:00:00\u001b[0ma \u001b[36m0:00:01\u001b[0m\n",
      "\u001b[?25hRequirement already satisfied: charset-normalizer<4,>=2 in /home/satya/miniconda3/lib/python3.11/site-packages (from requests>=2.31.0->llama-index) (2.0.4)\n",
      "Requirement already satisfied: urllib3<3,>=1.21.1 in /home/satya/miniconda3/lib/python3.11/site-packages (from requests>=2.31.0->llama-index) (1.26.18)\n",
      "Collecting greenlet!=0.4.17 (from SQLAlchemy>=1.4.49->SQLAlchemy[asyncio]>=1.4.49->llama-index)\n",
      "  Downloading greenlet-3.0.3-cp311-cp311-manylinux_2_24_x86_64.manylinux_2_28_x86_64.whl.metadata (3.8 kB)\n",
      "Collecting mypy-extensions>=0.3.0 (from typing-inspect>=0.8.0->llama-index)\n",
      "  Downloading mypy_extensions-1.0.0-py3-none-any.whl (4.7 kB)\n",
      "Collecting marshmallow<4.0.0,>=3.18.0 (from dataclasses-json->llama-index)\n",
      "  Downloading marshmallow-3.20.2-py3-none-any.whl.metadata (7.5 kB)\n",
      "Requirement already satisfied: python-dateutil>=2.8.2 in /home/satya/miniconda3/lib/python3.11/site-packages (from pandas->llama-index) (2.8.2)\n",
      "Requirement already satisfied: pytz>=2020.1 in /home/satya/miniconda3/lib/python3.11/site-packages (from pandas->llama-index) (2023.3.post1)\n",
      "Requirement already satisfied: tzdata>=2022.1 in /home/satya/miniconda3/lib/python3.11/site-packages (from pandas->llama-index) (2023.3)\n",
      "Requirement already satisfied: packaging>=17.0 in /home/satya/miniconda3/lib/python3.11/site-packages (from marshmallow<4.0.0,>=3.18.0->dataclasses-json->llama-index) (23.1)\n",
      "Requirement already satisfied: six>=1.5 in /home/satya/miniconda3/lib/python3.11/site-packages (from python-dateutil>=2.8.2->pandas->llama-index) (1.16.0)\n",
      "Downloading llama_index-0.9.44-py3-none-any.whl (15.9 MB)\n",
      "\u001b[2K   \u001b[90m━━━━━━━━━━━━━━━━━━━━━━━━━━━━━━━━━━━━━━━━\u001b[0m \u001b[32m15.9/15.9 MB\u001b[0m \u001b[31m629.1 kB/s\u001b[0m eta \u001b[36m0:00:00\u001b[0m00:01\u001b[0m00:01\u001b[0m\n",
      "\u001b[?25hDownloading aiohttp-3.9.3-cp311-cp311-manylinux_2_17_x86_64.manylinux2014_x86_64.whl (1.3 MB)\n",
      "\u001b[2K   \u001b[90m━━━━━━━━━━━━━━━━━━━━━━━━━━━━━━━━━━━━━━━━\u001b[0m \u001b[32m1.3/1.3 MB\u001b[0m \u001b[31m576.0 kB/s\u001b[0m eta \u001b[36m0:00:00\u001b[0m00:01\u001b[0m00:01\u001b[0m\n",
      "\u001b[?25hDownloading Deprecated-1.2.14-py2.py3-none-any.whl (9.6 kB)\n",
      "Downloading nest_asyncio-1.6.0-py3-none-any.whl (5.2 kB)\n",
      "Downloading openai-1.11.1-py3-none-any.whl (226 kB)\n",
      "\u001b[2K   \u001b[90m━━━━━━━━━━━━━━━━━━━━━━━━━━━━━━━━━━━━━━━\u001b[0m \u001b[32m226.1/226.1 kB\u001b[0m \u001b[31m632.4 kB/s\u001b[0m eta \u001b[36m0:00:00\u001b[0ma \u001b[36m0:00:01\u001b[0m\n",
      "\u001b[?25hDownloading httpx-0.26.0-py3-none-any.whl (75 kB)\n",
      "\u001b[2K   \u001b[90m━━━━━━━━━━━━━━━━━━━━━━━━━━━━━━━━━━━━━━━━\u001b[0m \u001b[32m75.9/75.9 kB\u001b[0m \u001b[31m593.4 kB/s\u001b[0m eta \u001b[36m0:00:00\u001b[0ma \u001b[36m0:00:01\u001b[0m\n",
      "\u001b[?25hDownloading httpcore-1.0.2-py3-none-any.whl (76 kB)\n",
      "\u001b[2K   \u001b[90m━━━━━━━━━━━━━━━━━━━━━━━━━━━━━━━━━━━━━━━━\u001b[0m \u001b[32m76.9/76.9 kB\u001b[0m \u001b[31m800.8 kB/s\u001b[0m eta \u001b[36m0:00:00\u001b[0ma \u001b[36m0:00:01\u001b[0m\n",
      "\u001b[?25hDownloading SQLAlchemy-2.0.25-cp311-cp311-manylinux_2_17_x86_64.manylinux2014_x86_64.whl (3.2 MB)\n",
      "\u001b[2K   \u001b[90m━━━━━━━━━━━━━━━━━━━━━━━━━━━━━━━━━━━━━━━━\u001b[0m \u001b[32m3.2/3.2 MB\u001b[0m \u001b[31m553.0 kB/s\u001b[0m eta \u001b[36m0:00:00\u001b[0m00:01\u001b[0m00:01\u001b[0m\n",
      "\u001b[?25hDownloading tenacity-8.2.3-py3-none-any.whl (24 kB)\n",
      "Downloading tiktoken-0.5.2-cp311-cp311-manylinux_2_17_x86_64.manylinux2014_x86_64.whl (2.0 MB)\n",
      "\u001b[2K   \u001b[90m━━━━━━━━━━━━━━━━━━━━━━━━━━━━━━━━━━━━━━━━\u001b[0m \u001b[32m2.0/2.0 MB\u001b[0m \u001b[31m579.3 kB/s\u001b[0m eta \u001b[36m0:00:00\u001b[0m00:01\u001b[0m00:01\u001b[0m\n",
      "\u001b[?25hDownloading typing_inspect-0.9.0-py3-none-any.whl (8.8 kB)\n",
      "Downloading dataclasses_json-0.6.4-py3-none-any.whl (28 kB)\n",
      "Downloading frozenlist-1.4.1-cp311-cp311-manylinux_2_5_x86_64.manylinux1_x86_64.manylinux_2_17_x86_64.manylinux2014_x86_64.whl (272 kB)\n",
      "\u001b[2K   \u001b[90m━━━━━━━━━━━━━━━━━━━━━━━━━━━━━━━━━━━━━━━\u001b[0m \u001b[32m272.3/272.3 kB\u001b[0m \u001b[31m633.2 kB/s\u001b[0m eta \u001b[36m0:00:00\u001b[0m00:01\u001b[0m00:01\u001b[0m\n",
      "\u001b[?25hDownloading greenlet-3.0.3-cp311-cp311-manylinux_2_24_x86_64.manylinux_2_28_x86_64.whl (620 kB)\n",
      "\u001b[2K   \u001b[90m━━━━━━━━━━━━━━━━━━━━━━━━━━━━━━━━━━━━━━━\u001b[0m \u001b[32m620.0/620.0 kB\u001b[0m \u001b[31m656.8 kB/s\u001b[0m eta \u001b[36m0:00:00\u001b[0m00:01\u001b[0m00:01\u001b[0m\n",
      "\u001b[?25hDownloading marshmallow-3.20.2-py3-none-any.whl (49 kB)\n",
      "\u001b[2K   \u001b[90m━━━━━━━━━━━━━━━━━━━━━━━━━━━━━━━━━━━━━━━━\u001b[0m \u001b[32m49.4/49.4 kB\u001b[0m \u001b[31m847.1 kB/s\u001b[0m eta \u001b[36m0:00:00\u001b[0ma \u001b[36m0:00:01\u001b[0m\n",
      "\u001b[?25hDownloading multidict-6.0.5-cp311-cp311-manylinux_2_17_x86_64.manylinux2014_x86_64.whl (128 kB)\n",
      "\u001b[2K   \u001b[90m━━━━━━━━━━━━━━━━━━━━━━━━━━━━━━━━━━━━━━━\u001b[0m \u001b[32m128.7/128.7 kB\u001b[0m \u001b[31m607.5 kB/s\u001b[0m eta \u001b[36m0:00:00\u001b[0ma \u001b[36m0:00:01\u001b[0m\n",
      "\u001b[?25hDownloading regex-2023.12.25-cp311-cp311-manylinux_2_17_x86_64.manylinux2014_x86_64.whl (785 kB)\n",
      "\u001b[2K   \u001b[90m━━━━━━━━━━━━━━━━━━━━━━━━━━━━━━━━━━━━━━━\u001b[0m \u001b[32m785.1/785.1 kB\u001b[0m \u001b[31m699.0 kB/s\u001b[0m eta \u001b[36m0:00:00\u001b[0ma \u001b[36m0:00:01\u001b[0m\n",
      "\u001b[?25hDownloading wrapt-1.16.0-cp311-cp311-manylinux_2_5_x86_64.manylinux1_x86_64.manylinux_2_17_x86_64.manylinux2014_x86_64.whl (80 kB)\n",
      "\u001b[2K   \u001b[90m━━━━━━━━━━━━━━━━━━━━━━━━━━━━━━━━━━━━━━━━\u001b[0m \u001b[32m80.7/80.7 kB\u001b[0m \u001b[31m679.0 kB/s\u001b[0m eta \u001b[36m0:00:00\u001b[0ma \u001b[36m0:00:01\u001b[0m\n",
      "\u001b[?25hDownloading yarl-1.9.4-cp311-cp311-manylinux_2_17_x86_64.manylinux2014_x86_64.whl (328 kB)\n",
      "\u001b[2K   \u001b[90m━━━━━━━━━━━━━━━━━━━━━━━━━━━━━━━━━━━━━━━\u001b[0m \u001b[32m328.1/328.1 kB\u001b[0m \u001b[31m598.0 kB/s\u001b[0m eta \u001b[36m0:00:00\u001b[0m00:01\u001b[0m00:01\u001b[0m\n",
      "\u001b[?25hInstalling collected packages: dirtyjson, wrapt, tenacity, regex, nest-asyncio, mypy-extensions, multidict, marshmallow, h11, greenlet, frozenlist, yarl, typing-inspect, tiktoken, SQLAlchemy, nltk, httpcore, deprecated, aiosignal, httpx, dataclasses-json, aiohttp, openai, llama-index\n",
      "  Attempting uninstall: nest-asyncio\n",
      "    Found existing installation: nest-asyncio 1.5.6\n",
      "    Uninstalling nest-asyncio-1.5.6:\n",
      "      Successfully uninstalled nest-asyncio-1.5.6\n",
      "Successfully installed SQLAlchemy-2.0.25 aiohttp-3.9.3 aiosignal-1.3.1 dataclasses-json-0.6.4 deprecated-1.2.14 dirtyjson-1.0.8 frozenlist-1.4.1 greenlet-3.0.3 h11-0.14.0 httpcore-1.0.2 httpx-0.26.0 llama-index-0.9.44 marshmallow-3.20.2 multidict-6.0.5 mypy-extensions-1.0.0 nest-asyncio-1.6.0 nltk-3.8.1 openai-1.11.1 regex-2023.12.25 tenacity-8.2.3 tiktoken-0.5.2 typing-inspect-0.9.0 wrapt-1.16.0 yarl-1.9.4\n"
     ]
    }
   ],
   "source": [
    "!pip install llama-index"
   ]
  },
  {
   "cell_type": "code",
   "execution_count": 2,
   "metadata": {
    "collapsed": true,
    "jupyter": {
     "outputs_hidden": true
    },
    "scrolled": true
   },
   "outputs": [
    {
     "name": "stdout",
     "output_type": "stream",
     "text": [
      "Collecting chainlit\n",
      "  Downloading chainlit-1.0.200-py3-none-any.whl.metadata (5.0 kB)\n",
      "Collecting aiofiles<24.0.0,>=23.1.0 (from chainlit)\n",
      "  Downloading aiofiles-23.2.1-py3-none-any.whl.metadata (9.7 kB)\n",
      "Collecting asyncer<0.0.3,>=0.0.2 (from chainlit)\n",
      "  Downloading asyncer-0.0.2-py3-none-any.whl (8.3 kB)\n",
      "Requirement already satisfied: click<9.0.0,>=8.1.3 in /home/satya/miniconda3/lib/python3.11/site-packages (from chainlit) (8.1.7)\n",
      "Collecting dataclasses_json<0.6.0,>=0.5.7 (from chainlit)\n",
      "  Downloading dataclasses_json-0.5.14-py3-none-any.whl.metadata (22 kB)\n",
      "Collecting fastapi<0.109.0,>=0.100 (from chainlit)\n",
      "  Downloading fastapi-0.108.0-py3-none-any.whl.metadata (24 kB)\n",
      "Collecting fastapi-socketio<0.0.11,>=0.0.10 (from chainlit)\n",
      "  Downloading fastapi_socketio-0.0.10-py3-none-any.whl (7.4 kB)\n",
      "Collecting filetype<2.0.0,>=1.2.0 (from chainlit)\n",
      "  Downloading filetype-1.2.0-py2.py3-none-any.whl (19 kB)\n",
      "Collecting httpx<0.25.0,>=0.23.0 (from chainlit)\n",
      "  Downloading httpx-0.24.1-py3-none-any.whl.metadata (7.4 kB)\n",
      "Collecting lazify<0.5.0,>=0.4.0 (from chainlit)\n",
      "  Downloading Lazify-0.4.0-py2.py3-none-any.whl (3.1 kB)\n",
      "Collecting literalai==0.0.103 (from chainlit)\n",
      "  Downloading literalai-0.0.103.tar.gz (25 kB)\n",
      "  Preparing metadata (setup.py) ... \u001b[?25ldone\n",
      "\u001b[?25hRequirement already satisfied: nest-asyncio<2.0.0,>=1.5.6 in /home/satya/miniconda3/lib/python3.11/site-packages (from chainlit) (1.6.0)\n",
      "Requirement already satisfied: packaging<24.0,>=23.1 in /home/satya/miniconda3/lib/python3.11/site-packages (from chainlit) (23.1)\n",
      "Requirement already satisfied: pydantic<3,>=1 in /home/satya/miniconda3/lib/python3.11/site-packages (from chainlit) (1.10.12)\n",
      "Collecting pyjwt<3.0.0,>=2.8.0 (from chainlit)\n",
      "  Downloading PyJWT-2.8.0-py3-none-any.whl.metadata (4.2 kB)\n",
      "Collecting python-dotenv<2.0.0,>=1.0.0 (from chainlit)\n",
      "  Downloading python_dotenv-1.0.1-py3-none-any.whl.metadata (23 kB)\n",
      "Collecting python-graphql-client<0.5.0,>=0.4.3 (from chainlit)\n",
      "  Downloading python_graphql_client-0.4.3-py3-none-any.whl (4.9 kB)\n",
      "Collecting python-multipart<0.0.7,>=0.0.6 (from chainlit)\n",
      "  Downloading python_multipart-0.0.6-py3-none-any.whl (45 kB)\n",
      "\u001b[2K     \u001b[90m━━━━━━━━━━━━━━━━━━━━━━━━━━━━━━━━━━━━━━━\u001b[0m \u001b[32m45.7/45.7 kB\u001b[0m \u001b[31m455.6 kB/s\u001b[0m eta \u001b[36m0:00:00\u001b[0m:--:--\u001b[0m\n",
      "\u001b[?25hCollecting syncer<3.0.0,>=2.0.3 (from chainlit)\n",
      "  Downloading syncer-2.0.3.tar.gz (11 kB)\n",
      "  Preparing metadata (setup.py) ... \u001b[?25ldone\n",
      "\u001b[?25hCollecting tomli<3.0.0,>=2.0.1 (from chainlit)\n",
      "  Downloading tomli-2.0.1-py3-none-any.whl (12 kB)\n",
      "Collecting uptrace<2.0.0,>=1.22.0 (from chainlit)\n",
      "  Downloading uptrace-1.22.0-py3-none-any.whl.metadata (2.3 kB)\n",
      "Collecting uvicorn<0.26.0,>=0.25.0 (from chainlit)\n",
      "  Downloading uvicorn-0.25.0-py3-none-any.whl.metadata (6.4 kB)\n",
      "Collecting watchfiles<0.21.0,>=0.20.0 (from chainlit)\n",
      "  Downloading watchfiles-0.20.0-cp37-abi3-manylinux_2_17_x86_64.manylinux2014_x86_64.whl.metadata (4.9 kB)\n",
      "Collecting anyio<4.0.0,>=3.4.0 (from asyncer<0.0.3,>=0.0.2->chainlit)\n",
      "  Downloading anyio-3.7.1-py3-none-any.whl.metadata (4.7 kB)\n",
      "Requirement already satisfied: marshmallow<4.0.0,>=3.18.0 in /home/satya/miniconda3/lib/python3.11/site-packages (from dataclasses_json<0.6.0,>=0.5.7->chainlit) (3.20.2)\n",
      "Requirement already satisfied: typing-inspect<1,>=0.4.0 in /home/satya/miniconda3/lib/python3.11/site-packages (from dataclasses_json<0.6.0,>=0.5.7->chainlit) (0.9.0)\n",
      "Collecting starlette<0.33.0,>=0.29.0 (from fastapi<0.109.0,>=0.100->chainlit)\n",
      "  Downloading starlette-0.32.0.post1-py3-none-any.whl.metadata (5.8 kB)\n",
      "Requirement already satisfied: typing-extensions>=4.8.0 in /home/satya/miniconda3/lib/python3.11/site-packages (from fastapi<0.109.0,>=0.100->chainlit) (4.9.0)\n",
      "Collecting python-socketio>=4.6.0 (from fastapi-socketio<0.0.11,>=0.0.10->chainlit)\n",
      "  Downloading python_socketio-5.11.1-py3-none-any.whl.metadata (3.2 kB)\n",
      "Requirement already satisfied: certifi in /home/satya/miniconda3/lib/python3.11/site-packages (from httpx<0.25.0,>=0.23.0->chainlit) (2023.11.17)\n",
      "Collecting httpcore<0.18.0,>=0.15.0 (from httpx<0.25.0,>=0.23.0->chainlit)\n",
      "  Downloading httpcore-0.17.3-py3-none-any.whl.metadata (18 kB)\n",
      "Requirement already satisfied: idna in /home/satya/miniconda3/lib/python3.11/site-packages (from httpx<0.25.0,>=0.23.0->chainlit) (3.4)\n",
      "Requirement already satisfied: sniffio in /home/satya/miniconda3/lib/python3.11/site-packages (from httpx<0.25.0,>=0.23.0->chainlit) (1.3.0)\n",
      "Requirement already satisfied: aiohttp~=3.0 in /home/satya/miniconda3/lib/python3.11/site-packages (from python-graphql-client<0.5.0,>=0.4.3->chainlit) (3.9.3)\n",
      "Requirement already satisfied: requests~=2.0 in /home/satya/miniconda3/lib/python3.11/site-packages (from python-graphql-client<0.5.0,>=0.4.3->chainlit) (2.31.0)\n",
      "Collecting websockets>=5.0 (from python-graphql-client<0.5.0,>=0.4.3->chainlit)\n",
      "  Downloading websockets-12.0-cp311-cp311-manylinux_2_5_x86_64.manylinux1_x86_64.manylinux_2_17_x86_64.manylinux2014_x86_64.whl.metadata (6.6 kB)\n",
      "Collecting opentelemetry-api~=1.22 (from uptrace<2.0.0,>=1.22.0->chainlit)\n",
      "  Downloading opentelemetry_api-1.22.0-py3-none-any.whl.metadata (1.4 kB)\n",
      "Collecting opentelemetry-exporter-otlp~=1.22 (from uptrace<2.0.0,>=1.22.0->chainlit)\n",
      "  Downloading opentelemetry_exporter_otlp-1.22.0-py3-none-any.whl.metadata (2.3 kB)\n",
      "Collecting opentelemetry-instrumentation~=0.43b0 (from uptrace<2.0.0,>=1.22.0->chainlit)\n",
      "  Downloading opentelemetry_instrumentation-0.43b0-py3-none-any.whl.metadata (5.9 kB)\n",
      "Collecting opentelemetry-sdk~=1.22 (from uptrace<2.0.0,>=1.22.0->chainlit)\n",
      "  Downloading opentelemetry_sdk-1.22.0-py3-none-any.whl.metadata (1.5 kB)\n",
      "Requirement already satisfied: h11>=0.8 in /home/satya/miniconda3/lib/python3.11/site-packages (from uvicorn<0.26.0,>=0.25.0->chainlit) (0.14.0)\n",
      "Requirement already satisfied: aiosignal>=1.1.2 in /home/satya/miniconda3/lib/python3.11/site-packages (from aiohttp~=3.0->python-graphql-client<0.5.0,>=0.4.3->chainlit) (1.3.1)\n",
      "Requirement already satisfied: attrs>=17.3.0 in /home/satya/miniconda3/lib/python3.11/site-packages (from aiohttp~=3.0->python-graphql-client<0.5.0,>=0.4.3->chainlit) (23.1.0)\n",
      "Requirement already satisfied: frozenlist>=1.1.1 in /home/satya/miniconda3/lib/python3.11/site-packages (from aiohttp~=3.0->python-graphql-client<0.5.0,>=0.4.3->chainlit) (1.4.1)\n",
      "Requirement already satisfied: multidict<7.0,>=4.5 in /home/satya/miniconda3/lib/python3.11/site-packages (from aiohttp~=3.0->python-graphql-client<0.5.0,>=0.4.3->chainlit) (6.0.5)\n",
      "Requirement already satisfied: yarl<2.0,>=1.0 in /home/satya/miniconda3/lib/python3.11/site-packages (from aiohttp~=3.0->python-graphql-client<0.5.0,>=0.4.3->chainlit) (1.9.4)\n",
      "Requirement already satisfied: deprecated>=1.2.6 in /home/satya/miniconda3/lib/python3.11/site-packages (from opentelemetry-api~=1.22->uptrace<2.0.0,>=1.22.0->chainlit) (1.2.14)\n",
      "Collecting importlib-metadata<7.0,>=6.0 (from opentelemetry-api~=1.22->uptrace<2.0.0,>=1.22.0->chainlit)\n",
      "  Downloading importlib_metadata-6.11.0-py3-none-any.whl.metadata (4.9 kB)\n",
      "Collecting opentelemetry-exporter-otlp-proto-grpc==1.22.0 (from opentelemetry-exporter-otlp~=1.22->uptrace<2.0.0,>=1.22.0->chainlit)\n",
      "  Downloading opentelemetry_exporter_otlp_proto_grpc-1.22.0-py3-none-any.whl.metadata (2.4 kB)\n",
      "Collecting opentelemetry-exporter-otlp-proto-http==1.22.0 (from opentelemetry-exporter-otlp~=1.22->uptrace<2.0.0,>=1.22.0->chainlit)\n",
      "  Downloading opentelemetry_exporter_otlp_proto_http-1.22.0-py3-none-any.whl.metadata (2.4 kB)\n",
      "Collecting backoff<3.0.0,>=1.10.0 (from opentelemetry-exporter-otlp-proto-grpc==1.22.0->opentelemetry-exporter-otlp~=1.22->uptrace<2.0.0,>=1.22.0->chainlit)\n",
      "  Downloading backoff-2.2.1-py3-none-any.whl (15 kB)\n",
      "Collecting googleapis-common-protos~=1.52 (from opentelemetry-exporter-otlp-proto-grpc==1.22.0->opentelemetry-exporter-otlp~=1.22->uptrace<2.0.0,>=1.22.0->chainlit)\n",
      "  Downloading googleapis_common_protos-1.62.0-py2.py3-none-any.whl.metadata (1.5 kB)\n",
      "Collecting grpcio<2.0.0,>=1.0.0 (from opentelemetry-exporter-otlp-proto-grpc==1.22.0->opentelemetry-exporter-otlp~=1.22->uptrace<2.0.0,>=1.22.0->chainlit)\n",
      "  Downloading grpcio-1.60.1-cp311-cp311-manylinux_2_17_x86_64.manylinux2014_x86_64.whl.metadata (4.0 kB)\n",
      "Collecting opentelemetry-exporter-otlp-proto-common==1.22.0 (from opentelemetry-exporter-otlp-proto-grpc==1.22.0->opentelemetry-exporter-otlp~=1.22->uptrace<2.0.0,>=1.22.0->chainlit)\n",
      "  Downloading opentelemetry_exporter_otlp_proto_common-1.22.0-py3-none-any.whl.metadata (1.9 kB)\n",
      "Collecting opentelemetry-proto==1.22.0 (from opentelemetry-exporter-otlp-proto-grpc==1.22.0->opentelemetry-exporter-otlp~=1.22->uptrace<2.0.0,>=1.22.0->chainlit)\n",
      "  Downloading opentelemetry_proto-1.22.0-py3-none-any.whl.metadata (2.3 kB)\n",
      "Collecting protobuf<5.0,>=3.19 (from opentelemetry-proto==1.22.0->opentelemetry-exporter-otlp-proto-grpc==1.22.0->opentelemetry-exporter-otlp~=1.22->uptrace<2.0.0,>=1.22.0->chainlit)\n",
      "  Downloading protobuf-4.25.2-cp37-abi3-manylinux2014_x86_64.whl.metadata (541 bytes)\n",
      "Requirement already satisfied: setuptools>=16.0 in /home/satya/miniconda3/lib/python3.11/site-packages (from opentelemetry-instrumentation~=0.43b0->uptrace<2.0.0,>=1.22.0->chainlit) (68.2.2)\n",
      "Requirement already satisfied: wrapt<2.0.0,>=1.0.0 in /home/satya/miniconda3/lib/python3.11/site-packages (from opentelemetry-instrumentation~=0.43b0->uptrace<2.0.0,>=1.22.0->chainlit) (1.16.0)\n",
      "Collecting opentelemetry-semantic-conventions==0.43b0 (from opentelemetry-sdk~=1.22->uptrace<2.0.0,>=1.22.0->chainlit)\n",
      "  Downloading opentelemetry_semantic_conventions-0.43b0-py3-none-any.whl.metadata (2.3 kB)\n",
      "Collecting bidict>=0.21.0 (from python-socketio>=4.6.0->fastapi-socketio<0.0.11,>=0.0.10->chainlit)\n",
      "  Downloading bidict-0.22.1-py3-none-any.whl (35 kB)\n",
      "Collecting python-engineio>=4.8.0 (from python-socketio>=4.6.0->fastapi-socketio<0.0.11,>=0.0.10->chainlit)\n",
      "  Downloading python_engineio-4.9.0-py3-none-any.whl.metadata (2.2 kB)\n",
      "Requirement already satisfied: charset-normalizer<4,>=2 in /home/satya/miniconda3/lib/python3.11/site-packages (from requests~=2.0->python-graphql-client<0.5.0,>=0.4.3->chainlit) (2.0.4)\n",
      "Requirement already satisfied: urllib3<3,>=1.21.1 in /home/satya/miniconda3/lib/python3.11/site-packages (from requests~=2.0->python-graphql-client<0.5.0,>=0.4.3->chainlit) (1.26.18)\n",
      "Requirement already satisfied: mypy-extensions>=0.3.0 in /home/satya/miniconda3/lib/python3.11/site-packages (from typing-inspect<1,>=0.4.0->dataclasses_json<0.6.0,>=0.5.7->chainlit) (1.0.0)\n",
      "Collecting zipp>=0.5 (from importlib-metadata<7.0,>=6.0->opentelemetry-api~=1.22->uptrace<2.0.0,>=1.22.0->chainlit)\n",
      "  Downloading zipp-3.17.0-py3-none-any.whl.metadata (3.7 kB)\n",
      "Collecting simple-websocket>=0.10.0 (from python-engineio>=4.8.0->python-socketio>=4.6.0->fastapi-socketio<0.0.11,>=0.0.10->chainlit)\n",
      "  Downloading simple_websocket-1.0.0-py3-none-any.whl.metadata (1.3 kB)\n",
      "Collecting wsproto (from simple-websocket>=0.10.0->python-engineio>=4.8.0->python-socketio>=4.6.0->fastapi-socketio<0.0.11,>=0.0.10->chainlit)\n",
      "  Downloading wsproto-1.2.0-py3-none-any.whl (24 kB)\n",
      "Downloading chainlit-1.0.200-py3-none-any.whl (4.5 MB)\n",
      "\u001b[2K   \u001b[90m━━━━━━━━━━━━━━━━━━━━━━━━━━━━━━━━━━━━━━━━\u001b[0m \u001b[32m4.5/4.5 MB\u001b[0m \u001b[31m721.3 kB/s\u001b[0m eta \u001b[36m0:00:00\u001b[0m00:01\u001b[0m00:01\u001b[0m\n",
      "\u001b[?25hDownloading aiofiles-23.2.1-py3-none-any.whl (15 kB)\n",
      "Downloading dataclasses_json-0.5.14-py3-none-any.whl (26 kB)\n",
      "Downloading fastapi-0.108.0-py3-none-any.whl (92 kB)\n",
      "\u001b[2K   \u001b[90m━━━━━━━━━━━━━━━━━━━━━━━━━━━━━━━━━━━━━━━━\u001b[0m \u001b[32m92.0/92.0 kB\u001b[0m \u001b[31m595.0 kB/s\u001b[0m eta \u001b[36m0:00:00\u001b[0ma \u001b[36m0:00:01\u001b[0m\n",
      "\u001b[?25hDownloading httpx-0.24.1-py3-none-any.whl (75 kB)\n",
      "\u001b[2K   \u001b[90m━━━━━━━━━━━━━━━━━━━━━━━━━━━━━━━━━━━━━━━━\u001b[0m \u001b[32m75.4/75.4 kB\u001b[0m \u001b[31m646.1 kB/s\u001b[0m eta \u001b[36m0:00:00\u001b[0ma \u001b[36m0:00:01\u001b[0m\n",
      "\u001b[?25hDownloading PyJWT-2.8.0-py3-none-any.whl (22 kB)\n",
      "Downloading python_dotenv-1.0.1-py3-none-any.whl (19 kB)\n",
      "Downloading uptrace-1.22.0-py3-none-any.whl (8.6 kB)\n",
      "Downloading uvicorn-0.25.0-py3-none-any.whl (60 kB)\n",
      "\u001b[2K   \u001b[90m━━━━━━━━━━━━━━━━━━━━━━━━━━━━━━━━━━━━━━━━\u001b[0m \u001b[32m60.3/60.3 kB\u001b[0m \u001b[31m581.3 kB/s\u001b[0m eta \u001b[36m0:00:00\u001b[0ma \u001b[36m0:00:01\u001b[0m\n",
      "\u001b[?25hDownloading watchfiles-0.20.0-cp37-abi3-manylinux_2_17_x86_64.manylinux2014_x86_64.whl (1.3 MB)\n",
      "\u001b[2K   \u001b[90m━━━━━━━━━━━━━━━━━━━━━━━━━━━━━━━━━━━━━━━━\u001b[0m \u001b[32m1.3/1.3 MB\u001b[0m \u001b[31m456.7 kB/s\u001b[0m eta \u001b[36m0:00:00\u001b[0m00:01\u001b[0m00:01\u001b[0m\n",
      "\u001b[?25hDownloading anyio-3.7.1-py3-none-any.whl (80 kB)\n",
      "\u001b[2K   \u001b[90m━━━━━━━━━━━━━━━━━━━━━━━━━━━━━━━━━━━━━━━━\u001b[0m \u001b[32m80.9/80.9 kB\u001b[0m \u001b[31m331.5 kB/s\u001b[0m eta \u001b[36m0:00:00\u001b[0ma \u001b[36m0:00:01\u001b[0m\n",
      "\u001b[?25hDownloading httpcore-0.17.3-py3-none-any.whl (74 kB)\n",
      "\u001b[2K   \u001b[90m━━━━━━━━━━━━━━━━━━━━━━━━━━━━━━━━━━━━━━━━\u001b[0m \u001b[32m74.5/74.5 kB\u001b[0m \u001b[31m701.9 kB/s\u001b[0m eta \u001b[36m0:00:00\u001b[0ma \u001b[36m0:00:01\u001b[0m\n",
      "\u001b[?25hDownloading opentelemetry_api-1.22.0-py3-none-any.whl (57 kB)\n",
      "\u001b[2K   \u001b[90m━━━━━━━━━━━━━━━━━━━━━━━━━━━━━━━━━━━━━━━━\u001b[0m \u001b[32m57.9/57.9 kB\u001b[0m \u001b[31m434.1 kB/s\u001b[0m eta \u001b[36m0:00:00\u001b[0ma \u001b[36m0:00:01\u001b[0m\n",
      "\u001b[?25hDownloading opentelemetry_exporter_otlp-1.22.0-py3-none-any.whl (7.0 kB)\n",
      "Downloading opentelemetry_exporter_otlp_proto_grpc-1.22.0-py3-none-any.whl (18 kB)\n",
      "Downloading opentelemetry_exporter_otlp_proto_http-1.22.0-py3-none-any.whl (16 kB)\n",
      "Downloading opentelemetry_exporter_otlp_proto_common-1.22.0-py3-none-any.whl (17 kB)\n",
      "Downloading opentelemetry_proto-1.22.0-py3-none-any.whl (50 kB)\n",
      "\u001b[2K   \u001b[90m━━━━━━━━━━━━━━━━━━━━━━━━━━━━━━━━━━━━━━━━\u001b[0m \u001b[32m50.8/50.8 kB\u001b[0m \u001b[31m575.8 kB/s\u001b[0m eta \u001b[36m0:00:00\u001b[0ma \u001b[36m0:00:01\u001b[0m\n",
      "\u001b[?25hDownloading opentelemetry_instrumentation-0.43b0-py3-none-any.whl (28 kB)\n",
      "Downloading opentelemetry_sdk-1.22.0-py3-none-any.whl (105 kB)\n",
      "\u001b[2K   \u001b[90m━━━━━━━━━━━━━━━━━━━━━━━━━━━━━━━━━━━━━━━\u001b[0m \u001b[32m105.6/105.6 kB\u001b[0m \u001b[31m634.6 kB/s\u001b[0m eta \u001b[36m0:00:00\u001b[0ma \u001b[36m0:00:01\u001b[0m\n",
      "\u001b[?25hDownloading opentelemetry_semantic_conventions-0.43b0-py3-none-any.whl (36 kB)\n",
      "Downloading python_socketio-5.11.1-py3-none-any.whl (75 kB)\n",
      "\u001b[2K   \u001b[90m━━━━━━━━━━━━━━━━━━━━━━━━━━━━━━━━━━━━━━━━\u001b[0m \u001b[32m75.5/75.5 kB\u001b[0m \u001b[31m468.4 kB/s\u001b[0m eta \u001b[36m0:00:00\u001b[0ma \u001b[36m0:00:01\u001b[0m\n",
      "\u001b[?25hDownloading starlette-0.32.0.post1-py3-none-any.whl (70 kB)\n",
      "\u001b[2K   \u001b[90m━━━━━━━━━━━━━━━━━━━━━━━━━━━━━━━━━━━━━━━━\u001b[0m \u001b[32m70.0/70.0 kB\u001b[0m \u001b[31m798.2 kB/s\u001b[0m eta \u001b[36m0:00:00\u001b[0ma \u001b[36m0:00:01\u001b[0m\n",
      "\u001b[?25hDownloading websockets-12.0-cp311-cp311-manylinux_2_5_x86_64.manylinux1_x86_64.manylinux_2_17_x86_64.manylinux2014_x86_64.whl (130 kB)\n",
      "\u001b[2K   \u001b[90m━━━━━━━━━━━━━━━━━━━━━━━━━━━━━━━━━━━━━━━\u001b[0m \u001b[32m130.9/130.9 kB\u001b[0m \u001b[31m515.1 kB/s\u001b[0m eta \u001b[36m0:00:00\u001b[0ma \u001b[36m0:00:01\u001b[0m\n",
      "\u001b[?25hDownloading importlib_metadata-6.11.0-py3-none-any.whl (23 kB)\n",
      "Downloading python_engineio-4.9.0-py3-none-any.whl (57 kB)\n",
      "\u001b[2K   \u001b[90m━━━━━━━━━━━━━━━━━━━━━━━━━━━━━━━━━━━━━━━━\u001b[0m \u001b[32m57.5/57.5 kB\u001b[0m \u001b[31m558.9 kB/s\u001b[0m eta \u001b[36m0:00:00\u001b[0ma \u001b[36m0:00:01\u001b[0m\n",
      "\u001b[?25hDownloading googleapis_common_protos-1.62.0-py2.py3-none-any.whl (228 kB)\n",
      "\u001b[2K   \u001b[90m━━━━━━━━━━━━━━━━━━━━━━━━━━━━━━━━━━━━━━━\u001b[0m \u001b[32m228.7/228.7 kB\u001b[0m \u001b[31m650.0 kB/s\u001b[0m eta \u001b[36m0:00:00\u001b[0m00:01\u001b[0m00:01\u001b[0m\n",
      "\u001b[?25hDownloading grpcio-1.60.1-cp311-cp311-manylinux_2_17_x86_64.manylinux2014_x86_64.whl (5.4 MB)\n",
      "\u001b[2K   \u001b[90m━━━━━━━━━━━━━━━━━━━━━━━━━━━━━━━━━━━━━━━━\u001b[0m \u001b[32m5.4/5.4 MB\u001b[0m \u001b[31m598.7 kB/s\u001b[0m eta \u001b[36m0:00:00\u001b[0m00:01\u001b[0m00:01\u001b[0m\n",
      "\u001b[?25hDownloading simple_websocket-1.0.0-py3-none-any.whl (13 kB)\n",
      "Downloading zipp-3.17.0-py3-none-any.whl (7.4 kB)\n",
      "Downloading protobuf-4.25.2-cp37-abi3-manylinux2014_x86_64.whl (294 kB)\n",
      "\u001b[2K   \u001b[90m━━━━━━━━━━━━━━━━━━━━━━━━━━━━━━━━━━━━━━━\u001b[0m \u001b[32m294.6/294.6 kB\u001b[0m \u001b[31m520.8 kB/s\u001b[0m eta \u001b[36m0:00:00\u001b[0ma \u001b[36m0:00:01\u001b[0m\n",
      "\u001b[?25hBuilding wheels for collected packages: literalai, syncer\n",
      "  Building wheel for literalai (setup.py) ... \u001b[?25ldone\n",
      "\u001b[?25h  Created wheel for literalai: filename=literalai-0.0.103-py3-none-any.whl size=30789 sha256=d87cd5cd9498e914920be5994856665a73f3e988caf0b053dca61ebec1b339ee\n",
      "  Stored in directory: /home/satya/.cache/pip/wheels/29/d7/5d/290b1fdd31af8c886ee8349baf9aa9999f332c6ebfeeb0c738\n",
      "  Building wheel for syncer (setup.py) ... \u001b[?25ldone\n",
      "\u001b[?25h  Created wheel for syncer: filename=syncer-2.0.3-py2.py3-none-any.whl size=3437 sha256=fd11bf5862d7524a2bd785965d053072101d236333e05d7d8459701dda489bbc\n",
      "  Stored in directory: /home/satya/.cache/pip/wheels/fa/a7/d4/9253c7f0256e67e3ff75d4c095c076a3882e319728e94bc6a1\n",
      "Successfully built literalai syncer\n",
      "Installing collected packages: syncer, lazify, filetype, zipp, wsproto, websockets, uvicorn, tomli, python-multipart, python-dotenv, pyjwt, protobuf, opentelemetry-semantic-conventions, grpcio, bidict, backoff, anyio, aiofiles, watchfiles, starlette, simple-websocket, opentelemetry-proto, importlib-metadata, httpcore, googleapis-common-protos, dataclasses_json, asyncer, python-graphql-client, python-engineio, opentelemetry-exporter-otlp-proto-common, opentelemetry-api, httpx, fastapi, python-socketio, opentelemetry-sdk, opentelemetry-instrumentation, literalai, opentelemetry-exporter-otlp-proto-http, opentelemetry-exporter-otlp-proto-grpc, fastapi-socketio, opentelemetry-exporter-otlp, uptrace, chainlit\n",
      "  Attempting uninstall: anyio\n",
      "    Found existing installation: anyio 4.2.0\n",
      "    Uninstalling anyio-4.2.0:\n",
      "      Successfully uninstalled anyio-4.2.0\n",
      "  Attempting uninstall: httpcore\n",
      "    Found existing installation: httpcore 1.0.2\n",
      "    Uninstalling httpcore-1.0.2:\n",
      "      Successfully uninstalled httpcore-1.0.2\n",
      "  Attempting uninstall: dataclasses_json\n",
      "    Found existing installation: dataclasses-json 0.6.4\n",
      "    Uninstalling dataclasses-json-0.6.4:\n",
      "      Successfully uninstalled dataclasses-json-0.6.4\n",
      "  Attempting uninstall: httpx\n",
      "    Found existing installation: httpx 0.26.0\n",
      "    Uninstalling httpx-0.26.0:\n",
      "      Successfully uninstalled httpx-0.26.0\n",
      "Successfully installed aiofiles-23.2.1 anyio-3.7.1 asyncer-0.0.2 backoff-2.2.1 bidict-0.22.1 chainlit-1.0.200 dataclasses_json-0.5.14 fastapi-0.108.0 fastapi-socketio-0.0.10 filetype-1.2.0 googleapis-common-protos-1.62.0 grpcio-1.60.1 httpcore-0.17.3 httpx-0.24.1 importlib-metadata-6.11.0 lazify-0.4.0 literalai-0.0.103 opentelemetry-api-1.22.0 opentelemetry-exporter-otlp-1.22.0 opentelemetry-exporter-otlp-proto-common-1.22.0 opentelemetry-exporter-otlp-proto-grpc-1.22.0 opentelemetry-exporter-otlp-proto-http-1.22.0 opentelemetry-instrumentation-0.43b0 opentelemetry-proto-1.22.0 opentelemetry-sdk-1.22.0 opentelemetry-semantic-conventions-0.43b0 protobuf-4.25.2 pyjwt-2.8.0 python-dotenv-1.0.1 python-engineio-4.9.0 python-graphql-client-0.4.3 python-multipart-0.0.6 python-socketio-5.11.1 simple-websocket-1.0.0 starlette-0.32.0.post1 syncer-2.0.3 tomli-2.0.1 uptrace-1.22.0 uvicorn-0.25.0 watchfiles-0.20.0 websockets-12.0 wsproto-1.2.0 zipp-3.17.0\n"
     ]
    }
   ],
   "source": [
    "!pip install chainlit"
   ]
  },
  {
   "cell_type": "markdown",
   "metadata": {},
   "source": [
    "## Download the data\n",
    "* We are going to use the \"Goodreads books dataste\" from [kaggle](https://www.kaggle.com/datasets/bahramjannesarr/goodreads-book-datasets-10m).\n",
    "* This dataset contains information about books like author name, publish date, description etc. which are available in the goodreads database.\n",
    "* Download the [data](https://www.kaggle.com/datasets/bahramjannesarr/goodreads-book-datasets-10m) from here and unzip it."
   ]
  },
  {
   "cell_type": "markdown",
   "metadata": {},
   "source": [
    "## Reading data\n",
    "* The dataset contains csv file which we will read and create a dataframe.\n",
    "* We will read a few of the files."
   ]
  },
  {
   "cell_type": "code",
   "execution_count": 19,
   "metadata": {},
   "outputs": [],
   "source": [
    "from fastai.text.all import pd, Path"
   ]
  },
  {
   "cell_type": "code",
   "execution_count": 4,
   "metadata": {},
   "outputs": [],
   "source": [
    "path = \"./archive\""
   ]
  },
  {
   "cell_type": "code",
   "execution_count": 5,
   "metadata": {},
   "outputs": [],
   "source": [
    "files_path = Path(path)"
   ]
  },
  {
   "cell_type": "code",
   "execution_count": 6,
   "metadata": {},
   "outputs": [
    {
     "data": {
      "text/plain": [
       "(#30) [Path('archive/book1-100k.csv'),Path('archive/book1000k-1100k.csv'),Path('archive/book100k-200k.csv'),Path('archive/book1100k-1200k.csv'),Path('archive/book1200k-1300k.csv'),Path('archive/book1300k-1400k.csv'),Path('archive/book1400k-1500k.csv'),Path('archive/book1500k-1600k.csv'),Path('archive/book1600k-1700k.csv'),Path('archive/book1700k-1800k.csv')...]"
      ]
     },
     "execution_count": 6,
     "metadata": {},
     "output_type": "execute_result"
    }
   ],
   "source": [
    "files_path.ls()"
   ]
  },
  {
   "cell_type": "code",
   "execution_count": 16,
   "metadata": {},
   "outputs": [],
   "source": [
    "from concurrent.futures import ThreadPoolExecutor"
   ]
  },
  {
   "cell_type": "code",
   "execution_count": 22,
   "metadata": {},
   "outputs": [],
   "source": [
    "def create_df(files):\n",
    "    with ThreadPoolExecutor() as executor:\n",
    "        dfs = list(executor.map(pd.read_csv, files.ls()))\n",
    "\n",
    "    combined_df = pd.concat(dfs, ignore_index=True)\n",
    "    return combined_df"
   ]
  },
  {
   "cell_type": "code",
   "execution_count": 23,
   "metadata": {},
   "outputs": [],
   "source": [
    "bigger_df = create_df(files_path)"
   ]
  },
  {
   "cell_type": "markdown",
   "metadata": {
    "jp-MarkdownHeadingCollapsed": true
   },
   "source": [
    "## Extracting and storing data\n",
    "* In a project setting you won't be using data straight from a dataframe in a memory.\n",
    "* Rather you should extratc and store it in aa database.\n",
    "* Here we will make use of a database."
   ]
  },
  {
   "cell_type": "markdown",
   "metadata": {},
   "source": [
    "## Managing Database\n",
    "* We will use sqlalchemy to manage our database.\n",
    "* Sqlalchemy is a python toolkit to manage interact with databses using python objects."
   ]
  },
  {
   "cell_type": "code",
   "execution_count": 7,
   "metadata": {},
   "outputs": [
    {
     "name": "stdout",
     "output_type": "stream",
     "text": [
      "Requirement already satisfied: sqlalchemy in /home/satya/miniconda3/lib/python3.11/site-packages (2.0.25)\n",
      "Requirement already satisfied: typing-extensions>=4.6.0 in /home/satya/miniconda3/lib/python3.11/site-packages (from sqlalchemy) (4.9.0)\n",
      "Requirement already satisfied: greenlet!=0.4.17 in /home/satya/miniconda3/lib/python3.11/site-packages (from sqlalchemy) (3.0.3)\n"
     ]
    }
   ],
   "source": [
    " !pip install sqlalchemy"
   ]
  },
  {
   "cell_type": "markdown",
   "metadata": {},
   "source": [
    "create the database engine. here it is sqlite."
   ]
  },
  {
   "cell_type": "code",
   "execution_count": 9,
   "metadata": {},
   "outputs": [],
   "source": [
    "from sqlalchemy import create_engine"
   ]
  },
  {
   "cell_type": "code",
   "execution_count": 10,
   "metadata": {},
   "outputs": [],
   "source": [
    "engine = create_engine('sqlite:///goodreads.db')"
   ]
  },
  {
   "cell_type": "markdown",
   "metadata": {},
   "source": [
    "using `to_sql` function in pandas to export the dataframe into the database."
   ]
  },
  {
   "cell_type": "code",
   "execution_count": 11,
   "metadata": {},
   "outputs": [],
   "source": [
    "table_name = \"goodreads\""
   ]
  },
  {
   "cell_type": "code",
   "execution_count": 12,
   "metadata": {},
   "outputs": [
    {
     "ename": "NameError",
     "evalue": "name 'df' is not defined",
     "output_type": "error",
     "traceback": [
      "\u001b[0;31m---------------------------------------------------------------------------\u001b[0m",
      "\u001b[0;31mNameError\u001b[0m                                 Traceback (most recent call last)",
      "Cell \u001b[0;32mIn[12], line 1\u001b[0m\n\u001b[0;32m----> 1\u001b[0m df\u001b[38;5;241m.\u001b[39mto_sql(table_name, engine, if_exists\u001b[38;5;241m=\u001b[39m\u001b[38;5;124m'\u001b[39m\u001b[38;5;124mreplace\u001b[39m\u001b[38;5;124m'\u001b[39m, index\u001b[38;5;241m=\u001b[39m\u001b[38;5;28;01mFalse\u001b[39;00m)\n",
      "\u001b[0;31mNameError\u001b[0m: name 'df' is not defined"
     ]
    }
   ],
   "source": [
    "df.to_sql(table_name, engine, if_exists='replace', index=False)"
   ]
  },
  {
   "cell_type": "code",
   "execution_count": null,
   "metadata": {},
   "outputs": [],
   "source": []
  }
 ],
 "metadata": {
  "kaggle": {
   "accelerator": "none",
   "dataSources": [],
   "dockerImageVersionId": 30646,
   "isGpuEnabled": false,
   "isInternetEnabled": true,
   "language": "python",
   "sourceType": "notebook"
  },
  "kernelspec": {
   "display_name": "Python 3 (ipykernel)",
   "language": "python",
   "name": "python3"
  },
  "language_info": {
   "codemirror_mode": {
    "name": "ipython",
    "version": 3
   },
   "file_extension": ".py",
   "mimetype": "text/x-python",
   "name": "python",
   "nbconvert_exporter": "python",
   "pygments_lexer": "ipython3",
   "version": "3.11.5"
  }
 },
 "nbformat": 4,
 "nbformat_minor": 4
}
